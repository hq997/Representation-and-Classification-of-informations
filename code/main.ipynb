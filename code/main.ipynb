{
 "cells": [
  {
   "cell_type": "code",
   "execution_count": 1,
   "metadata": {},
   "outputs": [],
   "source": [
    "import numpy as np"
   ]
  },
  {
   "cell_type": "code",
   "execution_count": 17,
   "metadata": {},
   "outputs": [],
   "source": [
    "def getLabels(X, T):\n",
    "    '''\n",
    "    this function is used to label the data X according to the given threshold T\n",
    "    elements less than T are labeled 0, elements greater than T are labelled 1\n",
    "    '''\n",
    "    return (T < X).astype(int)\n",
    "    \n",
    "\n",
    "def calculateMeans(X, Y):\n",
    "    '''\n",
    "    this function calculates the averages of different classes\n",
    "    '''\n",
    "    m1 = X[Y == 0].mean()\n",
    "    m2 = X[Y == 1].mean()\n",
    "\n",
    "    return np.array([m1, m2])\n",
    "\n",
    "\n",
    "def calculateSTDs(X, Y):\n",
    "    '''\n",
    "    this function calculates standard deviations of different classes\n",
    "    '''\n",
    "    s1 = X[Y == 0].std()\n",
    "    s2 = X[Y == 1].std()\n",
    "\n",
    "    return np.array([s1, s2])\n",
    "\n",
    "\n",
    "def calculateMembership(X, m, s):\n",
    "    '''\n",
    "    this function calculates the probability of an element belonging to class 1 or \n",
    "    class 2 according to the gaussian distribution\n",
    "    '''\n",
    "    m = m.reshape(1,1,-1)\n",
    "    s = s.reshape(1,1,-1)\n",
    "    X = X.reshape(*X.shape, 1)\n",
    "    \n",
    "    return (np.e ** -(((X - m) ** 2) / (2 * (s ** 2)))) / (s * ((2 * np.pi) ** (1/2)))\n",
    "\n",
    "\n",
    "def classify(P):\n",
    "    '''\n",
    "    this function takes membership values of each element and returns the class \n",
    "    with the highest membership\n",
    "    '''\n",
    "    return P.argmax(axis= -1)"
   ]
  },
  {
   "cell_type": "code",
   "execution_count": 18,
   "metadata": {},
   "outputs": [],
   "source": [
    "T = 50                                      # threshold T\n",
    "X = np.array([                              # input array\n",
    "    [12, 8 , 10, 12, 112, 114, 123, 126], \n",
    "    [14, 9 , 11, 13, 98 , 102, 104, 117], \n",
    "    [15, 12, 13, 16, 96 , 93 , 101, 106], \n",
    "    [16, 14, 14, 18, 99 , 84 , 103, 102], \n",
    "    [19, 13, 17, 17, 101, 94 , 88 , 97 ]\n",
    "])"
   ]
  },
  {
   "cell_type": "code",
   "execution_count": 19,
   "metadata": {},
   "outputs": [
    {
     "data": {
      "text/plain": [
       "array([[0, 0, 0, 0, 1, 1, 1, 1],\n",
       "       [0, 0, 0, 0, 1, 1, 1, 1],\n",
       "       [0, 0, 0, 0, 1, 1, 1, 1],\n",
       "       [0, 0, 0, 0, 1, 1, 1, 1],\n",
       "       [0, 0, 0, 0, 1, 1, 1, 1]])"
      ]
     },
     "execution_count": 19,
     "metadata": {},
     "output_type": "execute_result"
    }
   ],
   "source": [
    "Y = getLabels(X, T)     # labelling the data\n",
    "Y"
   ]
  },
  {
   "cell_type": "code",
   "execution_count": 20,
   "metadata": {},
   "outputs": [
    {
     "data": {
      "text/plain": [
       "array([ 13.65, 103.  ])"
      ]
     },
     "execution_count": 20,
     "metadata": {},
     "output_type": "execute_result"
    }
   ],
   "source": [
    "m = calculateMeans(X,Y)     # calculating means\n",
    "m"
   ]
  },
  {
   "cell_type": "code",
   "execution_count": 21,
   "metadata": {},
   "outputs": [
    {
     "data": {
      "text/plain": [
       "array([ 2.88574081, 10.58300524])"
      ]
     },
     "execution_count": 21,
     "metadata": {},
     "output_type": "execute_result"
    }
   ],
   "source": [
    "s = calculateSTDs(X,Y)      # calculating standard deviations\n",
    "s"
   ]
  },
  {
   "cell_type": "code",
   "execution_count": 26,
   "metadata": {},
   "outputs": [
    {
     "data": {
      "text/plain": [
       "array([[0, 0, 0, 0, 1, 1, 1, 1],\n",
       "       [0, 0, 0, 0, 1, 1, 1, 1],\n",
       "       [0, 0, 0, 0, 1, 1, 1, 1],\n",
       "       [0, 0, 0, 0, 1, 1, 1, 1],\n",
       "       [0, 0, 0, 0, 1, 1, 1, 1]])"
      ]
     },
     "execution_count": 26,
     "metadata": {},
     "output_type": "execute_result"
    }
   ],
   "source": [
    "P = calculateMembership(X,m,s)  # calculating gaussian membership\n",
    "P = classify(P)                 # using membership values and outputting class prediction\n",
    "P"
   ]
  },
  {
   "cell_type": "code",
   "execution_count": null,
   "metadata": {},
   "outputs": [],
   "source": []
  }
 ],
 "metadata": {
  "interpreter": {
   "hash": "3d597f4c481aa0f25dceb95d2a0067e73c0966dcbd003d741d821a7208527ecf"
  },
  "kernelspec": {
   "display_name": "Python 3.8.10 ('base')",
   "language": "python",
   "name": "python3"
  },
  "language_info": {
   "codemirror_mode": {
    "name": "ipython",
    "version": 3
   },
   "file_extension": ".py",
   "mimetype": "text/x-python",
   "name": "python",
   "nbconvert_exporter": "python",
   "pygments_lexer": "ipython3",
   "version": "3.8.10"
  },
  "orig_nbformat": 4
 },
 "nbformat": 4,
 "nbformat_minor": 2
}
